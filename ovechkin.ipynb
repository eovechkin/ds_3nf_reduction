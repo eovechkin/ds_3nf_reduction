{
 "cells": [
  {
   "cell_type": "markdown",
   "metadata": {},
   "source": [
    "#### 1. Схема базы данных\n",
    "\n",
    "[Ссылка на схему в редакторе](https://dbdiagram.io/d/hw_1-65be4aacac844320ae5e5738)\n",
    "\n",
    "![DB Schema](schema.png \"DB Schema\")"
   ]
  },
  {
   "cell_type": "markdown",
   "metadata": {},
   "source": [
    "#### 2. Приведение к 3-НФ\n",
    "\n",
    "1. Разделение адреса на номер дома и улицу в разные колонки `street` и `building_number`.\n",
    "\n",
    "2. Вынесли из таблицы `Customers` в отдельные таблицы адрес, информацию о работе. Из таблицы `Transactions` - информацию о продукте. Так как они не зависят от ключей этих таблиц или зависят транзитивно. Например, параметры адреса или работы в клиента и параметры продутка и транзакции.\n",
    "\n",
    "3. Адрес рассматриваем как цельный объект, не выделяя отдельно справочные таблицы для индексов, штатов и страны. Как правило эти данные заполняются из справочных баз данных адресных классификаторов. Также отделяем адрес в отдельную таблицу, для соответствия 3-НФ, так как его параметры (страна, штат) зависят от клиента транзитивно, а не напрямую.\n",
    "\n",
    "4. Также вынесем в отдельные таблицы перечислимые типы значения, для более правильной типизации и исключения разного написания для одного и того же по смыслу значения. Это такие таблицы - пол клиента, типы размеров, сегментов и т.д."
   ]
  },
  {
   "cell_type": "markdown",
   "metadata": {},
   "source": [
    "#### 3. Скрипт создания БД (см. в файле - `db_creation.sql`)\n",
    "\n",
    "![Созданные таблицы](created_tables.png \"Созданные таблицы\")"
   ]
  },
  {
   "cell_type": "markdown",
   "metadata": {},
   "source": [
    "#### 4. Скрипт наполнения БД (см. в файле - `insertion.sql`)"
   ]
  },
  {
   "cell_type": "markdown",
   "metadata": {},
   "source": [
    "#### 5. Проверка наличия данных\n",
    "\n",
    "Проверим с помощью подключения из python"
   ]
  },
  {
   "cell_type": "code",
   "execution_count": 5,
   "metadata": {},
   "outputs": [],
   "source": [
    "# установка клиента для подключения\n",
    "\n",
    "# %pip install psycopg[binary]"
   ]
  },
  {
   "cell_type": "code",
   "execution_count": 14,
   "metadata": {},
   "outputs": [
    {
     "name": "stdout",
     "output_type": "stream",
     "text": [
      "(1, 1, 1, datetime.date(2017, 12, 23), False, 1)\n",
      "(2, 2, 6, datetime.date(2017, 5, 21), False, 1)\n",
      "(3, 3, 5, datetime.date(2017, 8, 16), False, 1)\n",
      "(4, 4, 2, datetime.date(2017, 5, 4), True, 1)\n",
      "(5, 5, 5, datetime.date(2017, 3, 3), True, 1)\n",
      "(6, 6, 9, datetime.date(2017, 5, 10), False, 1)\n",
      "(7, 7, 5, datetime.date(2017, 5, 3), False, 1)\n",
      "(8, 8, 9, datetime.date(2017, 3, 6), False, 1)\n",
      "(9, 9, 8, datetime.date(2017, 9, 22), True, 1)\n",
      "(10, 10, 1, datetime.date(2017, 4, 6), True, 1)\n"
     ]
    }
   ],
   "source": [
    "import psycopg as pg\n",
    "\n",
    "with pg.connect(\"host=localhost port=5432 dbname=postgres user=postgres password=postgres\") as conn:\n",
    "    with conn.cursor() as cur:\n",
    "        for row in cur.execute('SELECT * FROM \"Transactions\"'):\n",
    "            print(row)"
   ]
  }
 ],
 "metadata": {
  "kernelspec": {
   "display_name": ".env",
   "language": "python",
   "name": "python3"
  },
  "language_info": {
   "codemirror_mode": {
    "name": "ipython",
    "version": 3
   },
   "file_extension": ".py",
   "mimetype": "text/x-python",
   "name": "python",
   "nbconvert_exporter": "python",
   "pygments_lexer": "ipython3",
   "version": "3.11.7"
  }
 },
 "nbformat": 4,
 "nbformat_minor": 2
}
